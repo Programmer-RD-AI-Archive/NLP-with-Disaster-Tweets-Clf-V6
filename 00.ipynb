{
 "cells": [
  {
   "cell_type": "code",
   "execution_count": 1,
   "id": "d6831919-e415-415e-a2c3-d8ed667a0e14",
   "metadata": {},
   "outputs": [],
   "source": [
    "import nltk\n",
    "from nltk.stem.porter import *\n",
    "from torch.nn import *\n",
    "from torch.optim import *\n",
    "import numpy as np\n",
    "import pandas as pd\n",
    "import torch,torchvision\n",
    "import random\n",
    "from tqdm import *\n",
    "from torch.utils.data import Dataset,DataLoader\n",
    "stemmer = PorterStemmer()"
   ]
  },
  {
   "cell_type": "code",
   "execution_count": 2,
   "id": "d7d81966-c353-4871-8220-740c3cbd9ba6",
   "metadata": {},
   "outputs": [],
   "source": [
    "def tokenize(sentence):\n",
    "    return nltk.word_tokenize(sentence)"
   ]
  },
  {
   "cell_type": "code",
   "execution_count": 3,
   "id": "f4d7ada0-4d4c-45e9-b801-59aa89ffae28",
   "metadata": {},
   "outputs": [
    {
     "data": {
      "text/plain": [
       "['$', '1000']"
      ]
     },
     "execution_count": 3,
     "metadata": {},
     "output_type": "execute_result"
    }
   ],
   "source": [
    "tokenize('$1000')"
   ]
  },
  {
   "cell_type": "code",
   "execution_count": 4,
   "id": "26ff8f51-90c4-4a27-94b8-76af3b153125",
   "metadata": {},
   "outputs": [],
   "source": [
    "def stem(word):\n",
    "    return stemmer.stem(word.lower())"
   ]
  },
  {
   "cell_type": "code",
   "execution_count": 5,
   "id": "7cd4bea8-4890-4d40-83ed-a60c8e137332",
   "metadata": {},
   "outputs": [
    {
     "data": {
      "text/plain": [
       "'univers'"
      ]
     },
     "execution_count": 5,
     "metadata": {},
     "output_type": "execute_result"
    }
   ],
   "source": [
    "stem('universe')"
   ]
  },
  {
   "cell_type": "code",
   "execution_count": 6,
   "id": "64362164-9f8a-483e-9084-4b9f54ad96d9",
   "metadata": {},
   "outputs": [],
   "source": [
    "def bag_of_words(tokenized_words,all_words):\n",
    "    tokenized_words = [stem(w) for w in tokenized_words]\n",
    "    bag = np.zeros(len(all_words),dtype=np.float32)\n",
    "    for idx,w in enumerate(all_words):\n",
    "        if w in tokenized_words:\n",
    "            bag[idx] = 1.0\n",
    "    return bag"
   ]
  },
  {
   "cell_type": "code",
   "execution_count": 7,
   "id": "3472064a-59aa-47f4-a5fb-a9010a0d312a",
   "metadata": {},
   "outputs": [
    {
     "data": {
      "text/plain": [
       "array([1., 0., 0.], dtype=float32)"
      ]
     },
     "execution_count": 7,
     "metadata": {},
     "output_type": "execute_result"
    }
   ],
   "source": [
    "bag_of_words(['how','arte','ate'],['ate','rgger','fewger'])"
   ]
  },
  {
   "cell_type": "code",
   "execution_count": 8,
   "id": "1338b085-6418-491c-a66e-557d0c241ab9",
   "metadata": {},
   "outputs": [],
   "source": [
    "data = pd.read_csv('./train_data_cleaning.csv')"
   ]
  },
  {
   "cell_type": "code",
   "execution_count": 9,
   "id": "7f47193b-4561-4a02-8db2-ec54ae74d989",
   "metadata": {},
   "outputs": [],
   "source": [
    "X = data['text']"
   ]
  },
  {
   "cell_type": "code",
   "execution_count": 10,
   "id": "2c17345d-2b50-474e-addd-602856999d8f",
   "metadata": {},
   "outputs": [],
   "source": [
    "y = data['target']"
   ]
  },
  {
   "cell_type": "code",
   "execution_count": 11,
   "id": "948411d2-8cbb-4d58-a2df-2ccdc34633e8",
   "metadata": {},
   "outputs": [],
   "source": [
    "all_words = []"
   ]
  },
  {
   "cell_type": "code",
   "execution_count": 12,
   "id": "08e9d67c-7a77-43e4-86ca-97a2a0e912ca",
   "metadata": {},
   "outputs": [],
   "source": [
    "all_data = []"
   ]
  },
  {
   "cell_type": "code",
   "execution_count": 13,
   "id": "6b35e2fd-a7d8-45fa-8432-96512c6fb924",
   "metadata": {},
   "outputs": [],
   "source": [
    "tags = []"
   ]
  },
  {
   "cell_type": "code",
   "execution_count": 14,
   "id": "ab4058d6-bff6-488a-8b38-90750ee30f59",
   "metadata": {},
   "outputs": [
    {
     "name": "stderr",
     "output_type": "stream",
     "text": [
      "7613it [00:02, 3330.41it/s]\n"
     ]
    }
   ],
   "source": [
    "for X_batch,y_batch in tqdm(zip(X,y)):\n",
    "    X_batch = tokenize(X_batch)\n",
    "    new_X = []\n",
    "    for X_batch_in_X_batch in X_batch:\n",
    "        new_X.append(stem(X_batch_in_X_batch))\n",
    "    all_words.extend(new_X)\n",
    "    all_data.append((new_X,y_batch))\n",
    "    tags.append(y_batch)"
   ]
  },
  {
   "cell_type": "code",
   "execution_count": 15,
   "id": "bd0430af-9828-48c0-9a2b-be0ecadaa7f2",
   "metadata": {},
   "outputs": [],
   "source": [
    "np.random.shuffle(all_data)"
   ]
  },
  {
   "cell_type": "code",
   "execution_count": 16,
   "id": "63b6ae25-8d3b-4388-809d-90e1d2573e0f",
   "metadata": {},
   "outputs": [],
   "source": [
    "all_words = sorted(set(all_words))"
   ]
  },
  {
   "cell_type": "code",
   "execution_count": 17,
   "id": "2ef15e04-14fb-4d3e-aac5-40444323815f",
   "metadata": {},
   "outputs": [],
   "source": [
    "tags = sorted(set(tags))"
   ]
  },
  {
   "cell_type": "code",
   "execution_count": 18,
   "id": "8d914cfa-ec85-4cab-9d0b-0b939e5da340",
   "metadata": {},
   "outputs": [],
   "source": [
    "X = []\n",
    "y = []"
   ]
  },
  {
   "cell_type": "code",
   "execution_count": 19,
   "id": "6ee355b2-2afc-4d18-9413-b79243134104",
   "metadata": {},
   "outputs": [
    {
     "name": "stderr",
     "output_type": "stream",
     "text": [
      "100%|██████████████████████████████████████| 7613/7613 [00:16<00:00, 452.84it/s]\n"
     ]
    }
   ],
   "source": [
    "for sentence,tag in tqdm(all_data):\n",
    "    bag = bag_of_words(sentence,all_words)\n",
    "    X.append(bag)\n",
    "    y.append(tags.index(tag))"
   ]
  },
  {
   "cell_type": "code",
   "execution_count": 20,
   "id": "bd1156d2-b220-4856-8ee5-b708bc64d637",
   "metadata": {},
   "outputs": [
    {
     "data": {
      "text/plain": [
       "array([0., 0., 0., ..., 0., 0., 0.], dtype=float32)"
      ]
     },
     "execution_count": 20,
     "metadata": {},
     "output_type": "execute_result"
    }
   ],
   "source": [
    "X[0]"
   ]
  },
  {
   "cell_type": "code",
   "execution_count": 21,
   "id": "fb24167c-b44c-465a-9324-623793682ec5",
   "metadata": {},
   "outputs": [
    {
     "data": {
      "text/plain": [
       "0"
      ]
     },
     "execution_count": 21,
     "metadata": {},
     "output_type": "execute_result"
    }
   ],
   "source": [
    "y[0]"
   ]
  },
  {
   "cell_type": "code",
   "execution_count": 22,
   "id": "2eb61fbe-f30b-44d0-b86a-418178dd08b3",
   "metadata": {},
   "outputs": [],
   "source": [
    "from sklearn.model_selection import *"
   ]
  },
  {
   "cell_type": "code",
   "execution_count": 23,
   "id": "669d7fb5-b494-4d38-be1f-4b035b66bcb7",
   "metadata": {},
   "outputs": [],
   "source": [
    "X_train,X_test,y_train,y_test = train_test_split(X,y,test_size=0.25,shuffle=False)"
   ]
  },
  {
   "cell_type": "code",
   "execution_count": 24,
   "id": "3f078d40-17c4-4996-9cdf-4fdac6c00115",
   "metadata": {},
   "outputs": [],
   "source": [
    "device = 'cuda'"
   ]
  },
  {
   "cell_type": "code",
   "execution_count": 25,
   "id": "2a9e4822-7079-45f6-8dce-b32569da7813",
   "metadata": {},
   "outputs": [],
   "source": [
    "X_train = torch.from_numpy(np.array(X_train)).to(device).float()\n",
    "y_train = torch.from_numpy(np.array(y_train)).to(device).to(device).float()\n",
    "X_test = torch.from_numpy(np.array(X_test)).to(device).to(device).float()\n",
    "y_test = torch.from_numpy(np.array(y_test)).to(device).to(device).float()"
   ]
  },
  {
   "cell_type": "code",
   "execution_count": 26,
   "id": "12fa6ecb-e9d0-44e8-8a9a-58e96435554f",
   "metadata": {},
   "outputs": [],
   "source": [
    "def get_loss(model,X,y,criterion):\n",
    "    preds = model(X)\n",
    "    loss = criterion(preds.view(-1,1),y.view(-1,1))\n",
    "    return loss.item()"
   ]
  },
  {
   "cell_type": "code",
   "execution_count": 27,
   "id": "cb2e0f6e-cfe4-414d-a83c-e64672422225",
   "metadata": {},
   "outputs": [],
   "source": [
    "def get_accuracy(model,X,y):\n",
    "    correct = 0\n",
    "    total = 0\n",
    "    preds = model(X)\n",
    "    for pred,y_batch in zip(preds,y):\n",
    "        pred = int(torch.round(pred))\n",
    "        if pred == y_batch:\n",
    "            correct += 1\n",
    "        total += 1\n",
    "    acc = round(correct/total,3)*100\n",
    "    return acc"
   ]
  },
  {
   "cell_type": "code",
   "execution_count": 36,
   "id": "fc50eab0-5529-4ea9-92c7-9564b25d6a59",
   "metadata": {},
   "outputs": [],
   "source": [
    "class Model(Module):\n",
    "    def __init__(self):\n",
    "        super().__init__()\n",
    "        self.activation = ReLU()\n",
    "        self.linear1 = Linear(len(all_words),1024)\n",
    "        self.linear2 = Linear(1024,1024)\n",
    "        self.linear3 = Linear(1024,1)\n",
    "    \n",
    "    def forward(self,X):\n",
    "        preds = self.linear1(X)\n",
    "        for _ in range(10):\n",
    "            preds = self.activation(self.linear2(preds))\n",
    "        preds = self.linear3(preds)\n",
    "        return preds"
   ]
  },
  {
   "cell_type": "code",
   "execution_count": 37,
   "id": "944e9e14-ae62-49ca-99c1-2aa0735cb0ad",
   "metadata": {},
   "outputs": [],
   "source": [
    "model = Model().to(device)"
   ]
  },
  {
   "cell_type": "code",
   "execution_count": 38,
   "id": "a5c9b500-4541-4905-9a54-9e7cd8379c14",
   "metadata": {},
   "outputs": [],
   "source": [
    "criterion = MSELoss()"
   ]
  },
  {
   "cell_type": "code",
   "execution_count": 39,
   "id": "d3cfebb2-b921-490b-b17a-79489300fd35",
   "metadata": {},
   "outputs": [],
   "source": [
    "optimizer = Adam(model.parameters(),lr=0.001)"
   ]
  },
  {
   "cell_type": "code",
   "execution_count": 40,
   "id": "a579d936-c126-49fe-8332-362998a3aa7d",
   "metadata": {},
   "outputs": [],
   "source": [
    "epochs = 1000"
   ]
  },
  {
   "cell_type": "code",
   "execution_count": 41,
   "id": "ffcc61df-e72a-4672-b3e1-2541a431e0eb",
   "metadata": {},
   "outputs": [],
   "source": [
    "batch_size = 32"
   ]
  },
  {
   "cell_type": "code",
   "execution_count": 42,
   "id": "3f88ea27-d705-40f9-b371-8db8b82e3028",
   "metadata": {},
   "outputs": [],
   "source": [
    "import wandb"
   ]
  },
  {
   "cell_type": "code",
   "execution_count": null,
   "id": "eed942f7-fe18-4015-a1ca-029a5920e2e0",
   "metadata": {},
   "outputs": [
    {
     "data": {
      "text/html": [
       "\n",
       "                Tracking run with wandb version 0.12.1<br/>\n",
       "                Syncing run <strong style=\"color:#cdcd00\">baseline</strong> to <a href=\"https://wandb.ai\" target=\"_blank\">Weights & Biases</a> <a href=\"https://docs.wandb.com/integrations/jupyter.html\" target=\"_blank\">(Documentation)</a>.<br/>\n",
       "                Project page: <a href=\"https://wandb.ai/ranuga-d/NLP-with-Disaster-Tweets-Clf-V6\" target=\"_blank\">https://wandb.ai/ranuga-d/NLP-with-Disaster-Tweets-Clf-V6</a><br/>\n",
       "                Run page: <a href=\"https://wandb.ai/ranuga-d/NLP-with-Disaster-Tweets-Clf-V6/runs/2nbix7s1\" target=\"_blank\">https://wandb.ai/ranuga-d/NLP-with-Disaster-Tweets-Clf-V6/runs/2nbix7s1</a><br/>\n",
       "                Run data is saved locally in <code>/home/indika/Programming/Projects/Python/Artifical-Intelligence/PyTorch/NLP/NLP-with-Disaster-Tweets-Clf-V6/wandb/run-20210905_124224-2nbix7s1</code><br/><br/>\n",
       "            "
      ],
      "text/plain": [
       "<IPython.core.display.HTML object>"
      ]
     },
     "metadata": {},
     "output_type": "display_data"
    },
    {
     "name": "stderr",
     "output_type": "stream",
     "text": [
      " 24%|█████████▍                              | 235/1000 [06:34<21:16,  1.67s/it]"
     ]
    }
   ],
   "source": [
    "wandb.init(project='NLP-with-Disaster-Tweets-Clf-V6',name='baseline')\n",
    "wandb.watch(model)\n",
    "for _ in tqdm(range(epochs)):\n",
    "    for idx in range(0,len(X_train),batch_size):\n",
    "        X_batch = X_train[idx:idx+batch_size].to(device)\n",
    "        y_batch = y_train[idx:idx+batch_size].to(device)\n",
    "        preds = model(X_batch)\n",
    "        preds = preds.to(device)\n",
    "        loss = criterion(preds.view(-1,1),y_batch.view(-1,1))\n",
    "        optimizer.zero_grad()\n",
    "        loss.backward()\n",
    "        optimizer.step()\n",
    "    wandb.log({'Loss':get_loss(model,X_train,y_train,criterion)})\n",
    "    wandb.log({'Val Loss':get_loss(model,X_test,y_test,criterion)})\n",
    "    wandb.log({'Acc':get_accuracy(model,X_train,y_train)})\n",
    "    wandb.log({'Val Acc':get_accuracy(model,X_test,y_test)})\n",
    "wandb.watch(model)\n",
    "wandb.finish()"
   ]
  },
  {
   "cell_type": "code",
   "execution_count": null,
   "id": "09755abb-5898-47e6-9c00-bface680322e",
   "metadata": {},
   "outputs": [],
   "source": []
  }
 ],
 "metadata": {
  "kernelspec": {
   "display_name": "Python 3.7.3 64-bit ('base': conda)",
   "language": "python",
   "name": "python373jvsc74a57bd0210f9608a45c0278a93c9e0b10db32a427986ab48cfc0d20c139811eb78c4bbc"
  },
  "language_info": {
   "codemirror_mode": {
    "name": "ipython",
    "version": 3
   },
   "file_extension": ".py",
   "mimetype": "text/x-python",
   "name": "python",
   "nbconvert_exporter": "python",
   "pygments_lexer": "ipython3",
   "version": "3.7.11"
  }
 },
 "nbformat": 4,
 "nbformat_minor": 5
}
